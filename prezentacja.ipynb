{
 "cells": [
  {
   "metadata": {},
   "cell_type": "markdown",
   "source": [
    "ą# Prezentacja o bazie NoSQL Qdrant\n",
    "\n",
    "---\n",
    "\n",
    "## Autorzy\n",
    "\n",
    "- Mateusz Malich, Aleksander Batko\n",
    "\n",
    "---\n",
    "\n",
    "## Bibliografia\n",
    "\n",
    "- Oficjalna strona Qdrant: [https://qdrant.tech](https://qdrant.tech)\n",
    "- Repozytorium GitHub Qdrant: [https://github.com/qdrant/qdrant](https://github.com/qdrant/qdrant)\n",
    "- Artykuły i blogi techniczne o Qdrant (np. Medium, Towards Data Science)\n",
    "- Dokumentacja Qdrant: [https://qdrant.tech/documentation/](https://qdrant.tech/documentation/)\n",
    "- Baza wektorowa: [https://learn.microsoft.com/pl-pl/fabric/real-time-intelligence/vector-database](https://learn.microsoft.com/pl-pl/fabric/real-time-intelligence/vector-database)\n",
    "\n",
    "---\n",
    "\n",
    "## Podstawowe informacje o bazie i jej historii\n",
    "\n",
    "**Qdrant** to nowoczesna baza danych NoSQL typu **vector database**, zaprojektowana do przechowywania i szybkiego wyszukiwania wektorów osadzania (embeddings) generowanych przez modele AI.\n",
    "\n",
    "### Cechy Qdrant:\n",
    "- Wysoka wydajność wyszukiwania milionów wektorów przy niskim opóźnieniu\n",
    "- Obsługa metadanych do zaawansowanego filtrowania wyników\n",
    "- Prosty REST API i gRPC do integracji\n",
    "- Możliwość tworzenia i usuwania kolekcji w czasie działania\n",
    "- Open Source na licencji Apache 2.0\n",
    "- Dostępna lokalnie (on-premises) oraz jako chmurowa usługa Qdrant Cloud\n",
    "\n",
    "### Historia:\n",
    "- Projekt rozpoczęty w 2021 roku przez Qdrant GmbH z Berlina\n",
    "- Publiczne wydanie open source w 2022\n",
    "- Dynamiczny rozwój w latach 2023-2024 z naciskiem na wydajność i łatwość użycia\n",
    "\n",
    "---\n",
    "\n",
    "### Czym jest baza wektorowa?\n",
    "Baza wektorowa to specjalny rodzaj bazy danych zaprojektowany do przechowywania i szybkiego wyszukiwania danych w postaci wektorów liczbowych (np. list liczb). Wektory te często powstają jako reprezentacje (embeddingi) obiektów takich jak teksty, obrazy, dźwięki czy inne dane, które dzięki temu można porównywać pod kątem ich znaczenia lub podobieństwa.\n",
    "\n",
    "## Dlaczego to ważne?\n",
    "Tradycyjne bazy danych świetnie radzą sobie z danymi strukturalnymi i wyszukiwaniem po kluczach lub pełnotekstowym. Jednak gdy chcemy wyszukiwać np. „podobne obrazy” lub „teksty o podobnym sensie”, potrzebujemy porównywać dane w przestrzeni wielowymiarowej. Do tego służą bazy wektorowe.\n",
    "\n",
    "## Praktyczny przykład\n",
    "- Obiekt (np. zdanie) jest zamieniany na wektor liczb (embedding) za pomocą modelu AI\n",
    "- Wektory umieszczane są w bazie\n",
    "- Podczas wyszukiwania podajesz zapytanie, które również jest przekształcane na wektor\n",
    "- Baza szybko znajduje wektory najbardziej „podobne” do zapytania, np. na podstawie odległości kosinusowej lub euklidesowej\n",
    "---\n",
    "\n",
    "### Firmy korzystające z Qdrant:\n",
    "\n",
    "- Microsoft\n",
    "- Disney dla Disney+\n",
    "- Kaufland\n",
    "- X (Twitter)\n",
    "- Discord\n",
    "\n",
    "## Instalacja i dostępność\n",
    "\n",
    "### Instalacja lokalna\n",
    "\n",
    "Na początku trzeba pobrać najnowszy obraz Qdrant z Dockerhuba:\n",
    "\n",
    "```bash\n",
    "docker pull qdrant/qdrant\n",
    "```bash\n",
    "Potem uruchom jako usługe:\n",
    "\n",
    "```bash\n",
    "docker run -p 6333:6333 -p 6334:6334 \\\n",
    "    -v \"$(pwd)/qdrant_storage:/qdrant/storage:z\" \\\n",
    "    qdrant/qdrant\n",
    "```bash"
   ],
   "id": "8361160607f55d7"
  },
  {
   "metadata": {},
   "cell_type": "markdown",
   "source": "# Potrzebne importy oraz nasze skrypty",
   "id": "16a506b1d1b8b8c6"
  },
  {
   "metadata": {
    "ExecuteTime": {
     "end_time": "2025-05-14T20:30:36.016660Z",
     "start_time": "2025-05-14T20:30:36.011011Z"
    }
   },
   "cell_type": "code",
   "source": [
    "import os\n",
    "from dotenv import load_dotenv\n",
    "import glob\n",
    "load_dotenv()\n",
    "from qdrant import QdrantDB\n",
    "from vector import get_openai_embedding\n",
    "import uuid\n"
   ],
   "id": "378c778a4e7e3670",
   "outputs": [],
   "execution_count": 34
  },
  {
   "metadata": {},
   "cell_type": "markdown",
   "source": "# Klasa służąca do komunikacji z bazą danych\n",
   "id": "212459a0cb5fff70"
  },
  {
   "metadata": {},
   "cell_type": "markdown",
   "source": [
    "```python\n",
    "\n",
    "class QdrantDB:\n",
    "    def __init__(self, url: str = \"localhost\", port: int = 6333, api_key: Optional[str] = None):\n",
    "        \"\"\"\n",
    "        Initialize the Qdrant client.\n",
    "\n",
    "        Args:\n",
    "            url: URL of the Qdrant server\n",
    "            port: Port of the Qdrant server\n",
    "            api_key: API key for authentication (if needed)\n",
    "        \"\"\"\n",
    "        if api_key:\n",
    "            self.client = QdrantClient(url=url, port=port, api_key=api_key, check_compatibility=False)\n",
    "        else:\n",
    "            self.client = QdrantClient(url=url, port=port, check_compatibility=False)\n",
    "```\n",
    "\n",
    "\n",
    "\n",
    "\n"
   ],
   "id": "3cdfcb5689ab655e"
  },
  {
   "metadata": {
    "ExecuteTime": {
     "end_time": "2025-05-14T20:30:36.059976Z",
     "start_time": "2025-05-14T20:30:36.033864Z"
    }
   },
   "cell_type": "code",
   "source": "qdrant_client = QdrantDB(url=\"localhost\", port=6333)",
   "id": "d780a71b961dd781",
   "outputs": [],
   "execution_count": 35
  },
  {
   "metadata": {},
   "cell_type": "markdown",
   "source": "# Tworzenie kolekcji",
   "id": "d9799f9bc3b13afd"
  },
  {
   "metadata": {
    "ExecuteTime": {
     "end_time": "2025-05-14T20:30:36.074559Z",
     "start_time": "2025-05-14T20:30:36.065762Z"
    }
   },
   "cell_type": "code",
   "source": [
    "collection_name = \"notatki\"\n",
    "vector_size = 3072  # Rozmiar modelu\n",
    "success = qdrant_client.create_collection(\n",
    "    collection_name=collection_name,\n",
    "    vector_size=vector_size,\n",
    "    distance=\"Cosine\"\n",
    ")\n",
    "print(f\"Collection created: {success}\")"
   ],
   "id": "570b36faf675ea5b",
   "outputs": [
    {
     "name": "stdout",
     "output_type": "stream",
     "text": [
      "Error creating collection: Unexpected Response: 409 (Conflict)\n",
      "Raw response content:\n",
      "b'{\"status\":{\"error\":\"Wrong input: Collection `notatki` already exists!\"},\"time\":0.00063775}'\n",
      "Collection created: False\n"
     ]
    }
   ],
   "execution_count": 36
  },
  {
   "metadata": {},
   "cell_type": "markdown",
   "source": "# Lista dostępnych kolekcji",
   "id": "385dc81782bb2a49"
  },
  {
   "metadata": {
    "ExecuteTime": {
     "end_time": "2025-05-14T20:30:36.086501Z",
     "start_time": "2025-05-14T20:30:36.081658Z"
    }
   },
   "cell_type": "code",
   "source": [
    "collections = qdrant_client.list_collections()\n",
    "print(\"Available collections:\")\n",
    "for collection in collections:\n",
    "    print(f\"- {collection.name}\")"
   ],
   "id": "280b1e5ba42bf930",
   "outputs": [
    {
     "name": "stdout",
     "output_type": "stream",
     "text": [
      "Available collections:\n",
      "- reports\n",
      "- aidevs3\n",
      "- notes\n",
      "- notatki\n",
      "- my_collection\n"
     ]
    }
   ],
   "execution_count": 37
  },
  {
   "metadata": {},
   "cell_type": "markdown",
   "source": "# Dodawanie dokumentów do kolekcji",
   "id": "e2fc44456220d1a1"
  },
  {
   "metadata": {},
   "cell_type": "markdown",
   "source": [
    "```python\n",
    "    def create_collection(self, collection_name: str, vector_size: int, distance: str = \"Cosine\"):\n",
    "        \"\"\"\n",
    "        Create a new collection in Qdrant.\n",
    "\n",
    "        Args:\n",
    "            collection_name: Name of the collection\n",
    "            vector_size: Dimensionality of vectors\n",
    "            distance: Distance metric (\"Cosine\", \"Euclid\", or \"Dot\")\n",
    "\n",
    "        Returns:\n",
    "            True if collection was created successfully\n",
    "        \"\"\"\n",
    "        try:\n",
    "            self.client.create_collection(\n",
    "                collection_name=collection_name,\n",
    "                vectors_config=models.VectorParams(\n",
    "                    size=vector_size,\n",
    "                    distance=distance\n",
    "                )\n",
    "            )\n",
    "            return True\n",
    "        except Exception as e:\n",
    "            print(f\"Error creating collection: {e}\")\n",
    "            return False\n",
    "```"
   ],
   "id": "f4f9b495e551b44"
  },
  {
   "metadata": {
    "ExecuteTime": {
     "end_time": "2025-05-14T20:31:19.120497Z",
     "start_time": "2025-05-14T20:30:36.096907Z"
    }
   },
   "cell_type": "code",
   "source": [
    "notes_directory = \"Documents/pages\"\n",
    "\n",
    "markdown_files = glob.glob(os.path.join(notes_directory, \"*.md\"))\n",
    "\n",
    "print(f\"Found {len(markdown_files)} markdown files\")\n",
    "\n",
    "for file_path in markdown_files:\n",
    "    try:\n",
    "        filename = os.path.basename(file_path)\n",
    "\n",
    "        with open(file_path, 'r', encoding='utf-8') as file:\n",
    "            content = file.read()\n",
    "\n",
    "        vector = get_openai_embedding(content)\n",
    "\n",
    "        payload = {\n",
    "            \"filename\": filename,\n",
    "            \"source_path\": file_path\n",
    "        }\n",
    "\n",
    "        file_id = str(uuid.uuid4())\n",
    "\n",
    "        success = qdrant_client.add_point(\n",
    "            collection_name=collection_name,\n",
    "            id=file_id,\n",
    "            vector=vector,\n",
    "            payload=payload\n",
    "        )\n",
    "\n",
    "        if success:\n",
    "            print(f\"Added file '{filename}' to collection with ID '{file_id}'\")\n",
    "        else:\n",
    "            print(f\"Failed to add file '{filename}'\")\n",
    "\n",
    "    except Exception as e:\n",
    "        print(f\"Error processing file {file_path}: {e}\")"
   ],
   "id": "2b462a2cfe9e1804",
   "outputs": [
    {
     "name": "stdout",
     "output_type": "stream",
     "text": [
      "Found 67 markdown files\n",
      "Added file 'Concept drift.md' to collection with ID '3cab82a1-ac5b-4f30-827b-6f84147a0031'\n",
      "Added file 'Swift.md' to collection with ID 'cc4e282b-06f6-463f-ae19-3c13b215c37c'\n",
      "Added file 'Generative AI as Code Generators.md' to collection with ID '47b927b4-f20c-4f53-8885-e73eb1efb0b6'\n",
      "Added file 'Prompt Engineering Guide.md' to collection with ID '600b100c-9e53-4495-ab8d-03c12a6ea792'\n",
      "Added file 'LLM's and GAI tools.md' to collection with ID 'bd3c9717-55a5-402c-b271-2458312b1663'\n",
      "Added file 'Kotlin.md' to collection with ID 'b95c1d65-f8d3-4dc7-bc71-6196015930bb'\n",
      "Added file 'Confusion matrix.md' to collection with ID '1d067386-5439-4726-926d-f4be9e941549'\n",
      "Added file 'Application Programming Interface.md' to collection with ID '68ec5788-f2d2-447e-8400-a325b9e984bd'\n",
      "Added file 'Prompt Evaluation.md' to collection with ID 'f38a48d5-078a-4277-b50e-35333a8629ee'\n",
      "Added file 'Sbody.md' to collection with ID '39b679a5-90c7-403e-93d9-a75994a20a5c'\n",
      "Added file 'Regularized regression.md' to collection with ID '1a3a929f-9844-4777-8a22-b843ab8cd15e'\n",
      "Added file 'Jetpack Compose.md' to collection with ID 'dd93a362-c6a7-4063-8ab7-f2c4421922da'\n",
      "Added file 'Prompt Injection.md' to collection with ID '4eef0946-6b17-48c1-b208-48fd8bc24d6e'\n",
      "Added file 'Linear Regression.md' to collection with ID 'e2ebe269-7e5d-4fd0-b2e6-94149f080547'\n",
      "Added file 'Parameters of LLM's.md' to collection with ID 'b8aff708-2da7-480e-95fc-7e72a2b1c6de'\n",
      "Added file 'Linear Regression in sklearn.md' to collection with ID '63e44972-bb39-4480-bc40-c8dd47376e62'\n",
      "Added file 'Ridge regression.md' to collection with ID '2b939f1f-61b8-4593-99b7-ba6279bda8b9'\n",
      "Added file 'Regex.md' to collection with ID 'ab11b023-e392-4acc-bcc7-95d89a3008fa'\n",
      "Added file 'Logistic regression.md' to collection with ID '9b46679c-d341-4bcc-a3a4-5f887a562ba0'\n",
      "Added file 'REST API.md' to collection with ID '0aded685-c269-46c5-810c-8529f7ee09b2'\n",
      "Added file 'Measuring model performance.md' to collection with ID 'cc55c4d2-70dc-4744-93f7-d69ff0e4b984'\n",
      "Added file 'Tokens in LLM's.md' to collection with ID '8782bd5f-6b69-4d8d-ac05-5bc4d76a3d7f'\n",
      "Added file 'App ideas.md' to collection with ID 'df08546f-d8ea-4131-bf93-a4e394c2e8a5'\n",
      "Added file 'Unit Tests.md' to collection with ID '1de4e639-58dc-4338-8269-0fa678d3b10c'\n",
      "Added file 'Minimum viable product.md' to collection with ID '8523b505-2698-42ec-aebf-e7a168f5a444'\n",
      "Added file 'Cross-validation.md' to collection with ID 'fc474ee2-0fbb-4adf-9e2d-022becbd94f4'\n",
      "Added file 'Covariate shift.md' to collection with ID 'b5de8892-9a76-41eb-81f5-ce5b0c8e105a'\n",
      "Added file 'Generative AI Use Cases.md' to collection with ID '8b90781f-310e-4935-bd6d-1923280e9bdb'\n",
      "Added file 'Prompts Precision.md' to collection with ID '94f49282-607f-4d07-9b7e-61aa75ba5972'\n",
      "Added file 'Artificial Intelligence.md' to collection with ID 'daac0c06-c49c-4965-a56f-ed56523b3929'\n",
      "Added file 'Usos mobile calendar.md' to collection with ID '4825f5c8-28a8-4e1c-942f-cc5101dea956'\n",
      "Added file 'Regression.md' to collection with ID 'cdb668a3-b0e0-41b7-a312-ce3059f12c4e'\n",
      "Added file 'Decision tree in python.md' to collection with ID 'f7e9222a-1b2f-40c8-9951-afcdfb4290bd'\n",
      "Added file 'Retrieval Augmented Generation.md' to collection with ID 'a327d0c3-b0a2-479f-8eda-0ac2e84df8eb'\n",
      "Added file 'Roles in ChatML.md' to collection with ID '76ef4547-7425-471f-a3bd-127d60208d89'\n",
      "Added file 'Classification.md' to collection with ID 'ffdc96e8-e3ad-4d20-9d90-4a73295be7da'\n",
      "Added file 'Ai agent memories.md' to collection with ID 'f3107fdc-bb4c-4fb3-baa4-6ae25c9b8675'\n",
      "Added file 'Hallucination of AI.md' to collection with ID 'd734c8fa-fbac-4c2f-abe0-38786017c183'\n",
      "Added file 'Overfitting.md' to collection with ID 'd11421cc-2a14-4724-bc87-4aa38aaaa50c'\n",
      "Added file 'Programming Language.md' to collection with ID '4f3b2a05-3914-43e0-a753-85029634221c'\n",
      "Added file 'contents.md' to collection with ID 'd81cb8f3-f547-41d6-9655-401b845a9c4b'\n",
      "Added file 'Chris Lattner.md' to collection with ID 'aa707214-6a89-41b3-bea4-174aec78afcf'\n",
      "Added file 'k-Nearest Neighbors in scikit-learn.md' to collection with ID 'b4a08b6b-8779-4bf2-85a4-ef78a5bbc9b5'\n",
      "Added file 'Few-shot.md' to collection with ID 'd8a57a09-f5ce-4a89-b459-b134af0148b2'\n",
      "Added file 'Levels of autonomy llm's applications.md' to collection with ID '34f593b7-faec-4c18-bc67-c44b86ad4660'\n",
      "Added file 'Supervised Learning.md' to collection with ID '27cb96d7-3ab1-443b-b2cd-19943108e723'\n",
      "Added file 'GraphQL.md' to collection with ID '7b4001fc-2228-4a5e-89ab-ed934c2c050b'\n",
      "Added file 'Prompt Engineering Schemas.md' to collection with ID '857c6be7-e818-4b61-94e2-843767668c27'\n",
      "Added file 'Databases.md' to collection with ID 'b3893ff6-d5e0-4e3a-b34f-bfccc0ddd726'\n",
      "Added file 'Lasso regression.md' to collection with ID '861cae84-67de-437f-8883-dde341b7c0b7'\n",
      "Added file 'Large Language Models.md' to collection with ID 'f122841f-3138-4504-81c1-9194cb0e05e2'\n",
      "Added file 'Generative Artificial Intelligence.md' to collection with ID 'dc034732-f65e-4902-9136-f4ad96214a7b'\n",
      "Added file 'Prompt Engineering.md' to collection with ID '2a740e4d-d5ee-4625-9e79-51c8c4e57b9f'\n",
      "Added file 'ChatML.md' to collection with ID '088cb0d8-d44b-4847-8450-b48db612a9e3'\n",
      "Added file 'Underfiting.md' to collection with ID '65610526-29f4-472a-a600-e0932fa64911'\n",
      "Added file 'Modular Prompts.md' to collection with ID '1da9f03d-6fb0-446e-a511-d0897844deda'\n",
      "Added file 'DevOps.md' to collection with ID '321aece6-a3a2-4417-bfa2-2a19bf798875'\n",
      "Added file 'k-Nearest Neighbors.md' to collection with ID '7f3acd06-264f-4b3d-9b04-94586ea84d60'\n",
      "Added file 'Neural Networks.md' to collection with ID '78dfa75a-a5ab-49f3-bf84-1f47c94aa674'\n",
      "Added file 'Prompt Structure and Formatting.md' to collection with ID '0e62a95d-9c0e-4b04-914f-22cdcb28f6a5'\n",
      "Added file 'Vector databases.md' to collection with ID 'f64b6a2e-d39a-4942-836d-348f977e622f'\n",
      "Added file 'Meta Prompt.md' to collection with ID '44d1d3e0-e476-4266-9a32-2dff2f40bffb'\n",
      "Added file 'Ai agent.md' to collection with ID 'd8dddaab-4250-41cf-ae97-f04b57bec113'\n",
      "Added file 'Decision tree.md' to collection with ID '356a1fa8-db14-4d6c-8945-32b20c095196'\n",
      "Added file 'SOAP API.md' to collection with ID '59c92c5e-668b-4cde-ad3f-448728da87ac'\n",
      "Added file 'MLOps.md' to collection with ID 'fd6ed498-6805-4dff-a5f3-5f5d8dd3ddc1'\n",
      "Added file 'Machine Learning.md' to collection with ID '1df7cb00-63cd-4f46-ae97-aacd5aff810c'\n"
     ]
    }
   ],
   "execution_count": 38
  },
  {
   "metadata": {},
   "cell_type": "markdown",
   "source": "# Wyszukiwanie dokumentów w kolekcji",
   "id": "34a9320e0662f189"
  },
  {
   "metadata": {},
   "cell_type": "markdown",
   "source": [
    "```python\n",
    "\n",
    "vector = get_openai_embedding(args.text) # wazane bo zapytanie tez musi być w formie wektora\n",
    "    def search(self, collection_name: str, query_vector: List[float], limit: int = 10,\n",
    "               filter: Optional[models.Filter] = None):\n",
    "        \"\"\"\n",
    "        Search for similar vectors in the collection.\n",
    "\n",
    "        Args:\n",
    "            collection_name: Name of the collection\n",
    "            query_vector: Vector to search for\n",
    "            limit: Maximum number of results\n",
    "            filter: Optional filter conditions\n",
    "\n",
    "        Returns:\n",
    "            List of search results with points\n",
    "        \"\"\"\n",
    "        try:\n",
    "            return self.client.search(\n",
    "                collection_name=collection_name,\n",
    "                query_vector=query_vector,\n",
    "                limit=limit,\n",
    "                query_filter=filter\n",
    "            )\n",
    "        except Exception as e:\n",
    "            print(f\"Error searching: {e}\")\n",
    "            return []\n",
    "```"
   ],
   "id": "c99f0f1105d3ec35"
  },
  {
   "metadata": {},
   "cell_type": "markdown",
   "source": "",
   "id": "80eca45462e55e20"
  },
  {
   "metadata": {
    "ExecuteTime": {
     "end_time": "2025-05-14T20:31:19.607164Z",
     "start_time": "2025-05-14T20:31:19.134005Z"
    }
   },
   "cell_type": "code",
   "source": [
    "query_text = \"AI and machine learning technologies\"\n",
    "query_vector = get_openai_embedding(query_text)\n",
    "\n",
    "search_results = qdrant_client.search(\n",
    "    collection_name=collection_name,\n",
    "    query_vector=query_vector,\n",
    "    limit=3\n",
    ")\n",
    "print(f\"\\nSearch results for: '{query_text}'\")\n",
    "for result in search_results:\n",
    "    print(f\"ID: {result.id}, Score: {result.score}\")\n",
    "    if hasattr(result, 'payload') and result.payload:\n",
    "        print(f\"Text: {result.payload.get('filename', 'N/A')}\")\n",
    "    print(\"---\")"
   ],
   "id": "c0a92e34c4c2b66a",
   "outputs": [
    {
     "name": "stdout",
     "output_type": "stream",
     "text": [
      "\n",
      "Search results for: 'AI and machine learning technologies'\n",
      "ID: daac0c06-c49c-4965-a56f-ed56523b3929, Score: 0.6133485\n",
      "Text: Artificial Intelligence.md\n",
      "---\n",
      "ID: f719f9ab-d51e-4598-a9db-dd7f06653d95, Score: 0.6133485\n",
      "Text: Artificial Intelligence.md\n",
      "---\n",
      "ID: 99275c04-dc23-43ae-a497-153f7872a781, Score: 0.56131697\n",
      "Text: Machine Learning.md\n",
      "---\n"
     ]
    }
   ],
   "execution_count": 39
  },
  {
   "metadata": {},
   "cell_type": "markdown",
   "source": "# Informacje o konkretnym punkcie",
   "id": "5665b2a141d230c0"
  },
  {
   "metadata": {
    "ExecuteTime": {
     "end_time": "2025-05-14T20:31:19.633072Z",
     "start_time": "2025-05-14T20:31:19.626259Z"
    }
   },
   "cell_type": "code",
   "source": [
    "point = qdrant_client.get_point(collection_name=collection_name, id=\"aa4edb9c-4359-431a-9169-c9be003d61f3\")\n",
    "print(f\"\\nRetrieved point by ID:\")\n",
    "if point and hasattr(point, 'payload'):\n",
    "    print(f\"Text: {point.payload.get('filename', 'N/A')}\")\n"
   ],
   "id": "f2cd3d6e6ef9589d",
   "outputs": [
    {
     "name": "stdout",
     "output_type": "stream",
     "text": [
      "\n",
      "Retrieved point by ID:\n",
      "Text: Generative Artificial Intelligence.md\n"
     ]
    }
   ],
   "execution_count": 40
  },
  {
   "metadata": {},
   "cell_type": "markdown",
   "source": "# Aktualizacja punktu",
   "id": "da86a329e300b24d"
  },
  {
   "metadata": {},
   "cell_type": "markdown",
   "source": "Aktualizacja punktu również wymaga zmiany wektora [Qdrant API - Upsert Points](https://api.qdrant.tech/api-reference/points/upsert-points)\n",
   "id": "bb7b6b460797f5b8"
  },
  {
   "metadata": {
    "ExecuteTime": {
     "end_time": "2025-05-14T20:31:19.657362Z",
     "start_time": "2025-05-14T20:31:19.647179Z"
    }
   },
   "cell_type": "code",
   "source": [
    "id = \"aa4edb9c-4359-431a-9169-c9be003d61f3\"\n",
    "updated_payload = {\n",
    "    \"category\": \"artificial intelligence\",\n",
    "    \"importance\": \"high\"\n",
    "}\n",
    "success = qdrant_client.update_payload(\n",
    "    collection_name=collection_name,\n",
    "    id=id,\n",
    "    payload=updated_payload\n",
    ")\n",
    "\n",
    "success = qdrant_client.add_point(\n",
    "    collection_name=collection_name,\n",
    "    id=id,\n",
    "    vector=[0.1, 0.2, 0.3],  # Example vector, should be the same size as the original\n",
    "    payload=updated_payload\n",
    ")\n",
    "\n",
    "print(f\"Payload updated: {success}\")"
   ],
   "id": "cd5cafed06b269d4",
   "outputs": [
    {
     "name": "stdout",
     "output_type": "stream",
     "text": [
      "Error adding points: Unexpected Response: 400 (Bad Request)\n",
      "Raw response content:\n",
      "b'{\"status\":{\"error\":\"Wrong input: Vector dimension error: expected dim: 3072, got 3\"},\"time\":0.000614042}'\n",
      "Payload updated: False\n"
     ]
    }
   ],
   "execution_count": 41
  },
  {
   "metadata": {},
   "cell_type": "markdown",
   "source": "# Liczebnośc kolekcji",
   "id": "e8715fbc4e03329d"
  },
  {
   "metadata": {
    "ExecuteTime": {
     "end_time": "2025-05-14T20:31:19.673433Z",
     "start_time": "2025-05-14T20:31:19.667768Z"
    }
   },
   "cell_type": "code",
   "source": [
    "count = qdrant_client.count_points(collection_name=collection_name)\n",
    "print(f\"\\nTotal points in collection: {count}\")"
   ],
   "id": "5298d42c22b639ef",
   "outputs": [
    {
     "name": "stdout",
     "output_type": "stream",
     "text": [
      "\n",
      "Total points in collection: 134\n"
     ]
    }
   ],
   "execution_count": 42
  }
 ],
 "metadata": {
  "kernelspec": {
   "display_name": "Python 3",
   "language": "python",
   "name": "python3"
  },
  "language_info": {
   "codemirror_mode": {
    "name": "ipython",
    "version": 2
   },
   "file_extension": ".py",
   "mimetype": "text/x-python",
   "name": "python",
   "nbconvert_exporter": "python",
   "pygments_lexer": "ipython2",
   "version": "2.7.6"
  }
 },
 "nbformat": 4,
 "nbformat_minor": 5
}

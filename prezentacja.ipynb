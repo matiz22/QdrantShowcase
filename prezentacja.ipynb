{
 "cells": [
  {
   "metadata": {},
   "cell_type": "markdown",
   "source": "# Potrzebne importy oraz nasze skrypty",
   "id": "16a506b1d1b8b8c6"
  },
  {
   "metadata": {},
   "cell_type": "code",
   "outputs": [],
   "execution_count": null,
   "source": [
    "import os\n",
    "from dotenv import load_dotenv\n",
    "import glob\n",
    "load_dotenv()\n",
    "from qdrant import QdrantDB\n",
    "from vector import get_openai_embedding\n",
    "import uuid\n"
   ],
   "id": "378c778a4e7e3670"
  },
  {
   "metadata": {},
   "cell_type": "markdown",
   "source": "# Klasa służąca do komunikacji z bazą danych\n",
   "id": "212459a0cb5fff70"
  },
  {
   "metadata": {},
   "cell_type": "markdown",
   "source": [
    "```python\n",
    "\n",
    "class QdrantDB:\n",
    "    def __init__(self, url: str = \"localhost\", port: int = 6333, api_key: Optional[str] = None):\n",
    "        \"\"\"\n",
    "        Initialize the Qdrant client.\n",
    "\n",
    "        Args:\n",
    "            url: URL of the Qdrant server\n",
    "            port: Port of the Qdrant server\n",
    "            api_key: API key for authentication (if needed)\n",
    "        \"\"\"\n",
    "        if api_key:\n",
    "            self.client = QdrantClient(url=url, port=port, api_key=api_key, check_compatibility=False)\n",
    "        else:\n",
    "            self.client = QdrantClient(url=url, port=port, check_compatibility=False)\n",
    "```\n",
    "\n",
    "\n",
    "\n",
    "\n"
   ],
   "id": "3cdfcb5689ab655e"
  },
  {
   "metadata": {},
   "cell_type": "code",
   "outputs": [],
   "execution_count": null,
   "source": "qdrant_client = QdrantDB(url=\"localhost\", port=6333)",
   "id": "d780a71b961dd781"
  },
  {
   "metadata": {},
   "cell_type": "markdown",
   "source": "# Tworzenie kolekcji",
   "id": "d9799f9bc3b13afd"
  },
  {
   "metadata": {},
   "cell_type": "code",
   "outputs": [],
   "execution_count": null,
   "source": [
    "collection_name = \"notatki\"\n",
    "vector_size = 3072  # Rozmiar modelu\n",
    "success = qdrant_client.create_collection(\n",
    "    collection_name=collection_name,\n",
    "    vector_size=vector_size,\n",
    "    distance=\"Cosine\"\n",
    ")\n",
    "print(f\"Collection created: {success}\")"
   ],
   "id": "570b36faf675ea5b"
  },
  {
   "metadata": {},
   "cell_type": "markdown",
   "source": "# Lista dostępnych kolekcji",
   "id": "385dc81782bb2a49"
  },
  {
   "metadata": {},
   "cell_type": "code",
   "outputs": [],
   "execution_count": null,
   "source": [
    "collections = qdrant_client.list_collections()\n",
    "print(\"Available collections:\")\n",
    "for collection in collections:\n",
    "    print(f\"- {collection.name}\")"
   ],
   "id": "280b1e5ba42bf930"
  },
  {
   "metadata": {},
   "cell_type": "markdown",
   "source": "# Dodawanie dokumentów do kolekcji",
   "id": "e2fc44456220d1a1"
  },
  {
   "metadata": {},
   "cell_type": "markdown",
   "source": [
    "```python\n",
    "    def create_collection(self, collection_name: str, vector_size: int, distance: str = \"Cosine\"):\n",
    "        \"\"\"\n",
    "        Create a new collection in Qdrant.\n",
    "\n",
    "        Args:\n",
    "            collection_name: Name of the collection\n",
    "            vector_size: Dimensionality of vectors\n",
    "            distance: Distance metric (\"Cosine\", \"Euclid\", or \"Dot\")\n",
    "\n",
    "        Returns:\n",
    "            True if collection was created successfully\n",
    "        \"\"\"\n",
    "        try:\n",
    "            self.client.create_collection(\n",
    "                collection_name=collection_name,\n",
    "                vectors_config=models.VectorParams(\n",
    "                    size=vector_size,\n",
    "                    distance=distance\n",
    "                )\n",
    "            )\n",
    "            return True\n",
    "        except Exception as e:\n",
    "            print(f\"Error creating collection: {e}\")\n",
    "            return False\n",
    "```"
   ],
   "id": "f4f9b495e551b44"
  },
  {
   "metadata": {},
   "cell_type": "code",
   "outputs": [],
   "execution_count": null,
   "source": [
    "notes_directory = \"Documents/pages\"\n",
    "\n",
    "markdown_files = glob.glob(os.path.join(notes_directory, \"*.md\"))\n",
    "\n",
    "print(f\"Found {len(markdown_files)} markdown files\")\n",
    "\n",
    "for file_path in markdown_files:\n",
    "    try:\n",
    "        filename = os.path.basename(file_path)\n",
    "\n",
    "        with open(file_path, 'r', encoding='utf-8') as file:\n",
    "            content = file.read()\n",
    "\n",
    "        vector = get_openai_embedding(content)\n",
    "\n",
    "        payload = {\n",
    "            \"filename\": filename,\n",
    "            \"source_path\": file_path\n",
    "        }\n",
    "\n",
    "        file_id = str(uuid.uuid4())\n",
    "\n",
    "        success = qdrant_client.add_point(\n",
    "            collection_name=collection_name,\n",
    "            id=file_id,\n",
    "            vector=vector,\n",
    "            payload=payload\n",
    "        )\n",
    "\n",
    "        if success:\n",
    "            print(f\"Added file '{filename}' to collection with ID '{file_id}'\")\n",
    "        else:\n",
    "            print(f\"Failed to add file '{filename}'\")\n",
    "\n",
    "    except Exception as e:\n",
    "        print(f\"Error processing file {file_path}: {e}\")"
   ],
   "id": "2b462a2cfe9e1804"
  },
  {
   "metadata": {},
   "cell_type": "markdown",
   "source": "# Wyszukiwanie dokumentów w kolekcji",
   "id": "34a9320e0662f189"
  },
  {
   "metadata": {},
   "cell_type": "markdown",
   "source": [
    "```python\n",
    "\n",
    "vector = get_openai_embedding(args.text) # wazane bo zapytanie tez musi być w formie wektora\n",
    "    def search(self, collection_name: str, query_vector: List[float], limit: int = 10,\n",
    "               filter: Optional[models.Filter] = None):\n",
    "        \"\"\"\n",
    "        Search for similar vectors in the collection.\n",
    "\n",
    "        Args:\n",
    "            collection_name: Name of the collection\n",
    "            query_vector: Vector to search for\n",
    "            limit: Maximum number of results\n",
    "            filter: Optional filter conditions\n",
    "\n",
    "        Returns:\n",
    "            List of search results with points\n",
    "        \"\"\"\n",
    "        try:\n",
    "            return self.client.search(\n",
    "                collection_name=collection_name,\n",
    "                query_vector=query_vector,\n",
    "                limit=limit,\n",
    "                query_filter=filter\n",
    "            )\n",
    "        except Exception as e:\n",
    "            print(f\"Error searching: {e}\")\n",
    "            return []\n",
    "```"
   ],
   "id": "c99f0f1105d3ec35"
  },
  {
   "metadata": {},
   "cell_type": "markdown",
   "source": "",
   "id": "80eca45462e55e20"
  },
  {
   "metadata": {
    "ExecuteTime": {
     "end_time": "2025-05-14T19:55:18.560287Z",
     "start_time": "2025-05-14T19:55:17.542596Z"
    }
   },
   "cell_type": "code",
   "source": [
    "query_text = \"AI and machine learning technologies\"\n",
    "query_vector = get_openai_embedding(query_text)\n",
    "\n",
    "search_results = qdrant_client.search(\n",
    "    collection_name=collection_name,\n",
    "    query_vector=query_vector,\n",
    "    limit=3\n",
    ")\n",
    "print(f\"\\nSearch results for: '{query_text}'\")\n",
    "for result in search_results:\n",
    "    print(f\"ID: {result.id}, Score: {result.score}\")\n",
    "    if hasattr(result, 'payload') and result.payload:\n",
    "        print(f\"Text: {result.payload.get('filename', 'N/A')}\")\n",
    "    print(\"---\")"
   ],
   "id": "c0a92e34c4c2b66a",
   "outputs": [
    {
     "name": "stdout",
     "output_type": "stream",
     "text": [
      "\n",
      "Search results for: 'AI and machine learning technologies'\n",
      "ID: f719f9ab-d51e-4598-a9db-dd7f06653d95, Score: 0.6133485\n",
      "Text: Artificial Intelligence.md\n",
      "---\n",
      "ID: 99275c04-dc23-43ae-a497-153f7872a781, Score: 0.56131697\n",
      "Text: Machine Learning.md\n",
      "---\n",
      "ID: aa4edb9c-4359-431a-9169-c9be003d61f3, Score: 0.54975057\n",
      "Text: Generative Artificial Intelligence.md\n",
      "---\n"
     ]
    }
   ],
   "execution_count": 27
  },
  {
   "metadata": {},
   "cell_type": "markdown",
   "source": "# Informacje o konkretnym punkcie",
   "id": "5665b2a141d230c0"
  },
  {
   "metadata": {
    "ExecuteTime": {
     "end_time": "2025-05-14T19:56:52.759524Z",
     "start_time": "2025-05-14T19:56:52.748850Z"
    }
   },
   "cell_type": "code",
   "source": [
    "point = qdrant_client.get_point(collection_name=collection_name, id=\"aa4edb9c-4359-431a-9169-c9be003d61f3\")\n",
    "print(f\"\\nRetrieved point by ID:\")\n",
    "if point and hasattr(point, 'payload'):\n",
    "    print(f\"Text: {point.payload.get('filename', 'N/A')}\")\n"
   ],
   "id": "f2cd3d6e6ef9589d",
   "outputs": [
    {
     "name": "stdout",
     "output_type": "stream",
     "text": [
      "\n",
      "Retrieved point by ID:\n",
      "Text: Generative Artificial Intelligence.md\n"
     ]
    }
   ],
   "execution_count": 28
  },
  {
   "metadata": {},
   "cell_type": "markdown",
   "source": "# Aktualizacja punktu",
   "id": "da86a329e300b24d"
  },
  {
   "metadata": {},
   "cell_type": "markdown",
   "source": "Aktualizacja punktu również wymaga zmiany wektora [Qdrant API - Upsert Points](https://api.qdrant.tech/api-reference/points/upsert-points)\n",
   "id": "bb7b6b460797f5b8"
  },
  {
   "metadata": {
    "ExecuteTime": {
     "end_time": "2025-05-14T20:04:24.113383Z",
     "start_time": "2025-05-14T20:04:24.092188Z"
    }
   },
   "cell_type": "code",
   "source": [
    "id = \"aa4edb9c-4359-431a-9169-c9be003d61f3\"\n",
    "updated_payload = {\n",
    "    \"category\": \"artificial intelligence\",\n",
    "    \"importance\": \"high\"\n",
    "}\n",
    "success = qdrant_client.update_payload(\n",
    "    collection_name=collection_name,\n",
    "    id=id,\n",
    "    payload=updated_payload\n",
    ")\n",
    "\n",
    "success = qdrant_client.add_point(\n",
    "    collection_name=collection_name,\n",
    "    id=id,\n",
    "    vector=[0.1, 0.2, 0.3],  # Example vector, should be the same size as the original\n",
    "    payload=updated_payload\n",
    ")\n",
    "\n",
    "print(f\"Payload updated: {success}\")"
   ],
   "id": "cd5cafed06b269d4",
   "outputs": [
    {
     "name": "stdout",
     "output_type": "stream",
     "text": [
      "Error adding points: Unexpected Response: 400 (Bad Request)\n",
      "Raw response content:\n",
      "b'{\"status\":{\"error\":\"Wrong input: Vector dimension error: expected dim: 3072, got 3\"},\"time\":0.000760417}'\n",
      "Payload updated: False\n"
     ]
    }
   ],
   "execution_count": 33
  },
  {
   "metadata": {},
   "cell_type": "markdown",
   "source": "# Liczebnośc kolekcji",
   "id": "e8715fbc4e03329d"
  },
  {
   "metadata": {
    "ExecuteTime": {
     "end_time": "2025-05-14T20:02:09.821136Z",
     "start_time": "2025-05-14T20:02:09.806067Z"
    }
   },
   "cell_type": "code",
   "source": [
    "count = qdrant_client.count_points(collection_name=collection_name)\n",
    "print(f\"\\nTotal points in collection: {count}\")"
   ],
   "id": "5298d42c22b639ef",
   "outputs": [
    {
     "name": "stdout",
     "output_type": "stream",
     "text": [
      "\n",
      "Total points in collection: 67\n"
     ]
    }
   ],
   "execution_count": 31
  }
 ],
 "metadata": {
  "kernelspec": {
   "display_name": "Python 3",
   "language": "python",
   "name": "python3"
  },
  "language_info": {
   "codemirror_mode": {
    "name": "ipython",
    "version": 2
   },
   "file_extension": ".py",
   "mimetype": "text/x-python",
   "name": "python",
   "nbconvert_exporter": "python",
   "pygments_lexer": "ipython2",
   "version": "2.7.6"
  }
 },
 "nbformat": 4,
 "nbformat_minor": 5
}
